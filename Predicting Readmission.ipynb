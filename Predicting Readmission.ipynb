{
 "cells": [
  {
   "cell_type": "code",
   "execution_count": 1,
   "metadata": {},
   "outputs": [
    {
     "name": "stdout",
     "output_type": "stream",
     "text": [
      "Index(['encounter_id', 'patient_nbr', 'race', 'gender', 'age', 'weight',\n",
      "       'admission_type_id', 'discharge_disposition_id', 'admission_source_id',\n",
      "       'time_in_hospital', 'payer_code', 'medical_specialty',\n",
      "       'num_lab_procedures', 'num_procedures', 'num_medications',\n",
      "       'number_outpatient', 'number_emergency', 'number_inpatient', 'diag_1',\n",
      "       'diag_2', 'diag_3', 'number_diagnoses', 'max_glu_serum', 'A1Cresult',\n",
      "       'metformin', 'repaglinide', 'nateglinide', 'chlorpropamide',\n",
      "       'glimepiride', 'acetohexamide', 'glipizide', 'glyburide', 'tolbutamide',\n",
      "       'pioglitazone', 'rosiglitazone', 'acarbose', 'miglitol', 'troglitazone',\n",
      "       'tolazamide', 'examide', 'citoglipton', 'insulin',\n",
      "       'glyburide-metformin', 'glipizide-metformin',\n",
      "       'glimepiride-pioglitazone', 'metformin-rosiglitazone',\n",
      "       'metformin-pioglitazone', 'change', 'diabetesMed', 'readmitted'],\n",
      "      dtype='object')\n"
     ]
    },
    {
     "name": "stderr",
     "output_type": "stream",
     "text": [
      "//anaconda3/lib/python3.7/site-packages/IPython/core/interactiveshell.py:3057: DtypeWarning: Columns (10) have mixed types. Specify dtype option on import or set low_memory=False.\n",
      "  interactivity=interactivity, compiler=compiler, result=result)\n"
     ]
    }
   ],
   "source": [
    "import pandas as pd\n",
    "import numpy as np\n",
    "import matplotlib.pyplot as plt\n",
    "import pandas as pd\n",
    "import numpy as np\n",
    "import re\n",
    "from sklearn.preprocessing import LabelEncoder\n",
    "from sklearn.tree import DecisionTreeClassifier\n",
    "from sklearn.model_selection import train_test_split, cross_val_score\n",
    "from sklearn.metrics import accuracy_score\n",
    "from sklearn.naive_bayes import MultinomialNB, GaussianNB\n",
    "from sklearn.metrics import classification_report\n",
    "from sklearn.linear_model import LogisticRegression\n",
    "from sklearn.ensemble import RandomForestClassifier\n",
    "from sklearn.feature_selection import SelectKBest\n",
    "from sklearn.feature_selection import chi2\n",
    "\n",
    "\n",
    "diab_data = pd.read_csv(\"diabetic_data.csv\", na_values = [\"?\",'missing', 'Unknown/Invalid', 'NaN'])\n",
    "print(diab_data.columns)"
   ]
  },
  {
   "cell_type": "code",
   "execution_count": 4,
   "metadata": {},
   "outputs": [
    {
     "name": "stdout",
     "output_type": "stream",
     "text": [
      "<class 'pandas.core.frame.DataFrame'>\n",
      "RangeIndex: 101766 entries, 0 to 101765\n",
      "Data columns (total 50 columns):\n",
      "encounter_id                101766 non-null int64\n",
      "patient_nbr                 101766 non-null int64\n",
      "race                        99493 non-null object\n",
      "gender                      101763 non-null object\n",
      "age                         101766 non-null object\n",
      "weight                      3197 non-null object\n",
      "admission_type_id           101766 non-null int64\n",
      "discharge_disposition_id    101766 non-null int64\n",
      "admission_source_id         101766 non-null int64\n",
      "time_in_hospital            101766 non-null int64\n",
      "payer_code                  61510 non-null object\n",
      "medical_specialty           51817 non-null object\n",
      "num_lab_procedures          101766 non-null int64\n",
      "num_procedures              101766 non-null int64\n",
      "num_medications             101766 non-null int64\n",
      "number_outpatient           101766 non-null int64\n",
      "number_emergency            101766 non-null int64\n",
      "number_inpatient            101766 non-null int64\n",
      "diag_1                      101745 non-null object\n",
      "diag_2                      101408 non-null object\n",
      "diag_3                      100343 non-null object\n",
      "number_diagnoses            101766 non-null int64\n",
      "max_glu_serum               101766 non-null object\n",
      "A1Cresult                   101766 non-null object\n",
      "metformin                   101766 non-null object\n",
      "repaglinide                 101766 non-null object\n",
      "nateglinide                 101766 non-null object\n",
      "chlorpropamide              101766 non-null object\n",
      "glimepiride                 101766 non-null object\n",
      "acetohexamide               101766 non-null object\n",
      "glipizide                   101766 non-null object\n",
      "glyburide                   101766 non-null object\n",
      "tolbutamide                 101766 non-null object\n",
      "pioglitazone                101766 non-null object\n",
      "rosiglitazone               101766 non-null object\n",
      "acarbose                    101766 non-null object\n",
      "miglitol                    101766 non-null object\n",
      "troglitazone                101766 non-null object\n",
      "tolazamide                  101766 non-null object\n",
      "examide                     101766 non-null object\n",
      "citoglipton                 101766 non-null object\n",
      "insulin                     101766 non-null object\n",
      "glyburide-metformin         101766 non-null object\n",
      "glipizide-metformin         101766 non-null object\n",
      "glimepiride-pioglitazone    101766 non-null object\n",
      "metformin-rosiglitazone     101766 non-null object\n",
      "metformin-pioglitazone      101766 non-null object\n",
      "change                      101766 non-null object\n",
      "diabetesMed                 101766 non-null object\n",
      "readmitted                  101766 non-null object\n",
      "dtypes: int64(13), object(37)\n",
      "memory usage: 38.8+ MB\n"
     ]
    }
   ],
   "source": [
    "diab_data.shape\n",
    "diab_data.head()\n",
    "diab_data.info()"
   ]
  },
  {
   "cell_type": "code",
   "execution_count": 3,
   "metadata": {},
   "outputs": [
    {
     "name": "stdout",
     "output_type": "stream",
     "text": [
      "   encounter_id  patient_nbr  time_in_hospital  num_lab_procedures  \\\n",
      "0       2278392      8222157                 1                  41   \n",
      "1        149190     55629189                 3                  59   \n",
      "2         64410     86047875                 2                  11   \n",
      "3        500364     82442376                 2                  44   \n",
      "4         16680     42519267                 1                  51   \n",
      "\n",
      "   num_procedures  num_medications  number_outpatient  number_emergency  \\\n",
      "0               0                1                  0                 0   \n",
      "1               0               18                  0                 0   \n",
      "2               5               13                  2                 0   \n",
      "3               1               16                  0                 0   \n",
      "4               0                8                  0                 0   \n",
      "\n",
      "   number_inpatient  number_diagnoses  \n",
      "0                 0                 1  \n",
      "1                 0                 9  \n",
      "2                 1                 6  \n",
      "3                 0                 7  \n",
      "4                 0                 5  \n"
     ]
    }
   ],
   "source": [
    "numerical_col = [col for col in diab_data.columns if diab_data[col].dtypes != 'O']\n",
    "discrete_col = ['admission_type_id','discharge_disposition_id','admission_source_id']\n",
    "numerical_col = [col for col in numerical_col if col not in discrete_col]\n",
    "print(diab_data[numerical_col].head())"
   ]
  },
  {
   "cell_type": "code",
   "execution_count": 8,
   "metadata": {},
   "outputs": [
    {
     "name": "stdout",
     "output_type": "stream",
     "text": [
      "encounter_id\n"
     ]
    },
    {
     "data": {
      "image/png": "[encoded data removed]",
      "text/plain": [
       "<Figure size 432x288 with 1 Axes>"
      ]
     },
     "metadata": {
      "needs_background": "light"
     },
     "output_type": "display_data"
    },
    {
     "name": "stdout",
     "output_type": "stream",
     "text": [
      "patient_nbr\n"
     ]
    },
    {
     "data": {
      "image/png": "[encoded data removed]",
      "text/plain": [
       "<Figure size 432x288 with 1 Axes>"
      ]
     },
     "metadata": {
      "needs_background": "light"
     },
     "output_type": "display_data"
    },
    {
     "name": "stdout",
     "output_type": "stream",
     "text": [
      "time_in_hospital\n"
     ]
    },
    {
     "data": {
      "image/png": "[encoded data removed]",
      "text/plain": [
       "<Figure size 432x288 with 1 Axes>"
      ]
     },
     "metadata": {
      "needs_background": "light"
     },
     "output_type": "display_data"
    },
    {
     "name": "stdout",
     "output_type": "stream",
     "text": [
      "num_lab_procedures\n"
     ]
    },
    {
     "data": {
      "image/png": "[encoded data removed]",
      "text/plain": [
       "<Figure size 432x288 with 1 Axes>"
      ]
     },
     "metadata": {
      "needs_background": "light"
     },
     "output_type": "display_data"
    },
    {
     "name": "stdout",
     "output_type": "stream",
     "text": [
      "num_procedures\n"
     ]
    },
    {
     "data": {
      "image/png": "[encoded data removed]",
      "text/plain": [
       "<Figure size 432x288 with 1 Axes>"
      ]
     },
     "metadata": {
      "needs_background": "light"
     },
     "output_type": "display_data"
    },
    {
     "name": "stdout",
     "output_type": "stream",
     "text": [
      "num_medications\n"
     ]
    },
    {
     "data": {
      "image/png": "[encoded data removed]",
      "text/plain": [
       "<Figure size 432x288 with 1 Axes>"
      ]
     },
     "metadata": {
      "needs_background": "light"
     },
     "output_type": "display_data"
    },
    {
     "name": "stdout",
     "output_type": "stream",
     "text": [
      "number_outpatient\n"
     ]
    },
    {
     "data": {
      "image/png": "[encoded data removed]",
      "text/plain": [
       "<Figure size 432x288 with 1 Axes>"
      ]
     },
     "metadata": {
      "needs_background": "light"
     },
     "output_type": "display_data"
    },
    {
     "name": "stdout",
     "output_type": "stream",
     "text": [
      "number_emergency\n"
     ]
    },
    {
     "data": {
      "image/png": "[encoded data removed]",
      "text/plain": [
       "<Figure size 432x288 with 1 Axes>"
      ]
     },
     "metadata": {
      "needs_background": "light"
     },
     "output_type": "display_data"
    },
    {
     "name": "stdout",
     "output_type": "stream",
     "text": [
      "number_inpatient\n"
     ]
    },
    {
     "data": {
      "image/png": "[encoded data removed]",
      "text/plain": [
       "<Figure size 432x288 with 1 Axes>"
      ]
     },
     "metadata": {
      "needs_background": "light"
     },
     "output_type": "display_data"
    },
    {
     "name": "stdout",
     "output_type": "stream",
     "text": [
      "number_diagnoses\n"
     ]
    },
    {
     "data": {
      "image/png": "[encoded data removed]",
      "text/plain": [
       "<Figure size 432x288 with 1 Axes>"
      ]
     },
     "metadata": {
      "needs_background": "light"
     },
     "output_type": "display_data"
    }
   ],
   "source": [
    "for i in numerical_col:\n",
    "    print(i)\n",
    "    diab_data[i].plot('hist')\n",
    "    plt.show()"
   ]
  },
  {
   "cell_type": "code",
   "execution_count": 100,
   "metadata": {},
   "outputs": [
    {
     "name": "stdout",
     "output_type": "stream",
     "text": [
      "race 2.1999999999999997 % of missing values\n",
      "gender 0.0 % of missing values\n",
      "weight 96.89999999999999 % of missing values\n",
      "payer_code 39.6 % of missing values\n",
      "medical_specialty 49.1 % of missing values\n",
      "diag_1 0.0 % of missing values\n",
      "diag_2 0.4 % of missing values\n",
      "diag_3 1.4000000000000001 % of missing values\n"
     ]
    }
   ],
   "source": [
    "col_with_na = [col for col in diab_data.columns if diab_data[col].isnull().sum()>1]\n",
    "\n",
    "for col in col_with_na:\n",
    "    print(str(col), np.round(diab_data[col].isnull().mean(), 3)*100, '% of missing values')\n"
   ]
  },
  {
   "cell_type": "code",
   "execution_count": 101,
   "metadata": {},
   "outputs": [
    {
     "data": {
      "text/plain": [
       "(101766, 40)"
      ]
     },
     "execution_count": 101,
     "metadata": {},
     "output_type": "execute_result"
    }
   ],
   "source": [
    "col_to_drop = ['encounter_id','patient_nbr','examide', 'citoglipton', 'acetohexamide', \n",
    "               'weight', 'payer_code', 'medical_specialty','diag_2','diag_3']\n",
    "diab_data = diab_data.drop(col_to_drop, axis = 1)\n",
    "diab_data.shape"
   ]
  },
  {
   "cell_type": "code",
   "execution_count": 102,
   "metadata": {},
   "outputs": [
    {
     "name": "stdout",
     "output_type": "stream",
     "text": [
      "   time_in_hospital  num_lab_procedures  num_procedures  num_medications  \\\n",
      "0                 1                  41               0                1   \n",
      "1                 3                  59               0               18   \n",
      "2                 2                  11               5               13   \n",
      "3                 2                  44               1               16   \n",
      "4                 1                  51               0                8   \n",
      "\n",
      "   number_outpatient  number_emergency  number_inpatient  number_diagnoses  \n",
      "0                  0                 0                 0                 1  \n",
      "1                  0                 0                 0                 9  \n",
      "2                  2                 0                 1                 6  \n",
      "3                  0                 0                 0                 7  \n",
      "4                  0                 0                 0                 5  \n"
     ]
    }
   ],
   "source": [
    "numerical_col = [col for col in diab_data.columns if diab_data[col].dtypes != 'O']\n",
    "discrete_col = ['admission_type_id','discharge_disposition_id','admission_source_id']\n",
    "numerical_col = [col for col in numerical_col if col not in discrete_col]\n",
    "print(diab_data[numerical_col].head())"
   ]
  },
  {
   "cell_type": "code",
   "execution_count": 22,
   "metadata": {},
   "outputs": [
    {
     "data": {
      "image/png": "[encoded data removed]",
      "text/plain": [
       "<Figure size 432x288 with 1 Axes>"
      ]
     },
     "metadata": {
      "needs_background": "light"
     },
     "output_type": "display_data"
    },
    {
     "data": {
      "image/png": "[encoded data removed]",
      "text/plain": [
       "<Figure size 432x288 with 1 Axes>"
      ]
     },
     "metadata": {
      "needs_background": "light"
     },
     "output_type": "display_data"
    },
    {
     "data": {
      "image/png": "[encoded data removed]",
      "text/plain": [
       "<Figure size 432x288 with 1 Axes>"
      ]
     },
     "metadata": {
      "needs_background": "light"
     },
     "output_type": "display_data"
    }
   ],
   "source": [
    "def analyse_discrete_var(df, col):\n",
    "    df = df.copy()\n",
    "    df.groupby(col)['readmitted'].count().plot.bar()\n",
    "    plt.title(col)\n",
    "    plt.show()\n",
    "\n",
    "for col in discrete_col:\n",
    "    analyse_discrete_var(diab_data, col)"
   ]
  },
  {
   "cell_type": "code",
   "execution_count": 25,
   "metadata": {},
   "outputs": [
    {
     "data": {
      "image/png": "[encoded data removed]",
      "text/plain": [
       "<Figure size 432x288 with 1 Axes>"
      ]
     },
     "metadata": {
      "needs_background": "light"
     },
     "output_type": "display_data"
    },
    {
     "data": {
      "image/png": "[encoded data removed]",
      "text/plain": [
       "<Figure size 432x288 with 1 Axes>"
      ]
     },
     "metadata": {
      "needs_background": "light"
     },
     "output_type": "display_data"
    },
    {
     "data": {
      "image/png": "[encoded data removed]",
      "text/plain": [
       "<Figure size 432x288 with 1 Axes>"
      ]
     },
     "metadata": {
      "needs_background": "light"
     },
     "output_type": "display_data"
    },
    {
     "data": {
      "image/png": "[encoded data removed]",
      "text/plain": [
       "<Figure size 432x288 with 1 Axes>"
      ]
     },
     "metadata": {
      "needs_background": "light"
     },
     "output_type": "display_data"
    },
    {
     "data": {
      "image/png": "[encoded data removed]",
      "text/plain": [
       "<Figure size 432x288 with 1 Axes>"
      ]
     },
     "metadata": {
      "needs_background": "light"
     },
     "output_type": "display_data"
    },
    {
     "data": {
      "image/png": "[encoded data removed]",
      "text/plain": [
       "<Figure size 432x288 with 1 Axes>"
      ]
     },
     "metadata": {
      "needs_background": "light"
     },
     "output_type": "display_data"
    },
    {
     "data": {
      "image/png": "[encoded data removed]",
      "text/plain": [
       "<Figure size 432x288 with 1 Axes>"
      ]
     },
     "metadata": {
      "needs_background": "light"
     },
     "output_type": "display_data"
    },
    {
     "data": {
      "image/png": "[encoded data removed]",
      "text/plain": [
       "<Figure size 432x288 with 1 Axes>"
      ]
     },
     "metadata": {
      "needs_background": "light"
     },
     "output_type": "display_data"
    }
   ],
   "source": [
    "def analyse_cont_var(df, col):\n",
    "    df = df.copy()\n",
    "    df[col].hist(bins=20)\n",
    "    plt.ylabel('Readmitted')\n",
    "    plt.xlabel(col)\n",
    "    plt.title(col)\n",
    "    plt.show()\n",
    "    \n",
    "for col in numerical_col:\n",
    "    analyse_cont_var(diab_data, col)"
   ]
  },
  {
   "cell_type": "code",
   "execution_count": 27,
   "metadata": {},
   "outputs": [
    {
     "data": {
      "image/png": "[encoded data removed]",
      "text/plain": [
       "<Figure size 432x288 with 1 Axes>"
      ]
     },
     "metadata": {
      "needs_background": "light"
     },
     "output_type": "display_data"
    },
    {
     "data": {
      "image/png": "[encoded data removed]",
      "text/plain": [
       "<Figure size 432x288 with 1 Axes>"
      ]
     },
     "metadata": {
      "needs_background": "light"
     },
     "output_type": "display_data"
    },
    {
     "data": {
      "image/png": "[encoded data removed]",
      "text/plain": [
       "<Figure size 432x288 with 1 Axes>"
      ]
     },
     "metadata": {
      "needs_background": "light"
     },
     "output_type": "display_data"
    },
    {
     "data": {
      "image/png": "[encoded data removed]",
      "text/plain": [
       "<Figure size 432x288 with 1 Axes>"
      ]
     },
     "metadata": {
      "needs_background": "light"
     },
     "output_type": "display_data"
    }
   ],
   "source": [
    "def analyse_transformed_cont(df, col):\n",
    "    df.copy()\n",
    "    if 0 in df[col].unique():\n",
    "        pass\n",
    "    else:\n",
    "        df[col] = np.log(df[col])\n",
    "        df[col].hist(bins=20)\n",
    "        plt.ylabel('Readmitted')\n",
    "        plt.xlabel(col)\n",
    "        plt.title(col)\n",
    "        plt.show()\n",
    "    \n",
    "for col in numerical_col:\n",
    "    analyse_transformed_cont(diab_data, col)"
   ]
  },
  {
   "cell_type": "code",
   "execution_count": 103,
   "metadata": {},
   "outputs": [
    {
     "name": "stdout",
     "output_type": "stream",
     "text": [
      "race 6 categories\n",
      "gender 3 categories\n",
      "age 10 categories\n",
      "diag_1 717 categories\n",
      "max_glu_serum 4 categories\n",
      "A1Cresult 4 categories\n",
      "metformin 4 categories\n",
      "repaglinide 4 categories\n",
      "nateglinide 4 categories\n",
      "chlorpropamide 4 categories\n",
      "glimepiride 4 categories\n",
      "glipizide 4 categories\n",
      "glyburide 4 categories\n",
      "tolbutamide 2 categories\n",
      "pioglitazone 4 categories\n",
      "rosiglitazone 4 categories\n",
      "acarbose 4 categories\n",
      "miglitol 4 categories\n",
      "troglitazone 2 categories\n",
      "tolazamide 3 categories\n",
      "insulin 4 categories\n",
      "glyburide-metformin 4 categories\n",
      "glipizide-metformin 2 categories\n",
      "glimepiride-pioglitazone 2 categories\n",
      "metformin-rosiglitazone 2 categories\n",
      "metformin-pioglitazone 2 categories\n",
      "change 2 categories\n",
      "diabetesMed 2 categories\n",
      "readmitted 3 categories\n"
     ]
    }
   ],
   "source": [
    "#categorical variables\n",
    "categorical_col = [col for col in diab_data.columns if diab_data[col].dtypes == 'O']\n",
    "diab_data[categorical_col].head()\n",
    "for col in categorical_col:\n",
    "    print(col, len(diab_data[col].unique()), 'categories')"
   ]
  },
  {
   "cell_type": "code",
   "execution_count": 104,
   "metadata": {},
   "outputs": [
    {
     "data": {
      "text/plain": [
       "race      2273\n",
       "gender       3\n",
       "diag_1      21\n",
       "dtype: int64"
      ]
     },
     "execution_count": 104,
     "metadata": {},
     "output_type": "execute_result"
    }
   ],
   "source": [
    "na_val_count_by_col = diab_data.isnull().sum()\n",
    "na_val_count_by_col[na_val_count_by_col > 0]"
   ]
  },
  {
   "cell_type": "code",
   "execution_count": 105,
   "metadata": {},
   "outputs": [
    {
     "data": {
      "text/plain": [
       "(99473, 40)"
      ]
     },
     "execution_count": 105,
     "metadata": {},
     "output_type": "execute_result"
    }
   ],
   "source": [
    "diab_data = diab_data.dropna(axis = 0)\n",
    "diab_data.shape"
   ]
  },
  {
   "cell_type": "code",
   "execution_count": 20,
   "metadata": {},
   "outputs": [],
   "source": [
    "#diab_data.race.value_counts(dropna = False)\n",
    "#diab_data.describe()\n",
    "#object_cols = [col for col in diab_data.columns if diab_data[col].dtype == \"object\"]\n",
    "#diab_data[object_cols].nunique()"
   ]
  },
  {
   "cell_type": "code",
   "execution_count": 106,
   "metadata": {},
   "outputs": [],
   "source": [
    "#function to group the ICD 9 codes based on ICD 9 grouping standards\n",
    "def convert_diagnosis(col):\n",
    "    diag = []\n",
    "    for i in col:\n",
    "        if re.match(\"^\\d*\\.?\\d+\", i) is not None:\n",
    "            if '.' not in i:\n",
    "                x = int(i)\n",
    "                if x > 0 and x < 140:\n",
    "                    y = '1'\n",
    "                    diag.append(y)\n",
    "                elif x >=140 and x < 240:\n",
    "                    y = '2'\n",
    "                    diag.append(y)\n",
    "                elif x >=240 and x < 280:\n",
    "                    y = '3'\n",
    "                    diag.append(y)\n",
    "                elif x >=280 and x < 290:\n",
    "                    y = '4'\n",
    "                    diag.append(y)\n",
    "                elif x >=290 and x < 320:\n",
    "                    y = '5'\n",
    "                    diag.append(y)\n",
    "                elif x >=320 and x < 390:\n",
    "                    y = '6'\n",
    "                    diag.append(y)\n",
    "                elif x >=390 and x < 460:\n",
    "                    y = '7'\n",
    "                    diag.append(y)\n",
    "                elif x >=460 and x < 520:\n",
    "                    y = '8'\n",
    "                    diag.append(y)\n",
    "                elif x >=520 and x < 580:\n",
    "                    y = '9'\n",
    "                    diag.append(y)\n",
    "                elif x >=580 and x < 630:\n",
    "                    y = '10'\n",
    "                    diag.append(y)\n",
    "                elif x >=630 and x < 680:\n",
    "                    y = '11'\n",
    "                    diag.append(y)\n",
    "                elif x >=680 and x < 710:\n",
    "                    y = '12'\n",
    "                    diag.append(y)\n",
    "                elif x >=710 and x < 740:\n",
    "                    y = '13'\n",
    "                    diag.append(y)\n",
    "                elif x >=740 and x < 760:\n",
    "                    y = '14'\n",
    "                    diag.append(y)\n",
    "                elif x >=760 and x < 780:\n",
    "                    y = '15'\n",
    "                    diag.append(y)\n",
    "                elif x >=780 and x < 800:\n",
    "                    y = '16'\n",
    "                    diag.append(y)\n",
    "                else:\n",
    "                    y = '17'\n",
    "                    diag.append(y)\n",
    "            else:\n",
    "                x = float(i)\n",
    "                if x > 0 and x < 140:\n",
    "                    y = '1'\n",
    "                    diag.append(y)\n",
    "                elif x >=140 and x < 240:\n",
    "                    y = '2'\n",
    "                    diag.append(y)\n",
    "                elif x >=240 and x < 280:\n",
    "                    y = '3'\n",
    "                    diag.append(y)\n",
    "                elif x >=280 and x < 290:\n",
    "                    y = '4'\n",
    "                    diag.append(y)\n",
    "                elif x >=290 and x < 320:\n",
    "                    y = '5'\n",
    "                    diag.append(y)\n",
    "                elif x >=320 and x < 390:\n",
    "                    y = '6'\n",
    "                    diag.append(y)\n",
    "                elif x >=390 and x < 460:\n",
    "                    y = '7'\n",
    "                    diag.append(y)\n",
    "                elif x >=460 and x < 520:\n",
    "                    y = '8'\n",
    "                    diag.append(y)\n",
    "                elif x >=520 and x < 580:\n",
    "                    y = '9'\n",
    "                    diag.append(y)\n",
    "                elif x >=580 and x < 630:\n",
    "                    y = '10'\n",
    "                    diag.append(y)\n",
    "                elif x >=630 and x < 680:\n",
    "                    y = '11'\n",
    "                    diag.append(y)\n",
    "                elif x >=680 and x < 710:\n",
    "                    y = '12'\n",
    "                    diag.append(y)\n",
    "                elif x >=710 and x < 740:\n",
    "                    y = '13'\n",
    "                    diag.append(y)\n",
    "                elif x >=740 and x < 760:\n",
    "                    y = '14'\n",
    "                    diag.append(y)\n",
    "                elif x >=760 and x < 780:\n",
    "                    y = '15'\n",
    "                    diag.append(y)\n",
    "                elif x >=780 and x < 800:\n",
    "                    y = '16'\n",
    "                    diag.append(y)\n",
    "                else:\n",
    "                    y = '17'\n",
    "                    diag.append(y)\n",
    "        elif 'V' in i:\n",
    "            y = '18'\n",
    "            diag.append(y)\n",
    "        else:\n",
    "            y = '19'\n",
    "            diag.append(y)\n",
    "            \n",
    "    return diag\n",
    "\n",
    "diab_data['diag_1'] = convert_diagnosis(diab_data['diag_1'])"
   ]
  },
  {
   "cell_type": "code",
   "execution_count": 107,
   "metadata": {},
   "outputs": [
    {
     "data": {
      "text/plain": [
       "array(['NO', '>30', '<30'], dtype=object)"
      ]
     },
     "execution_count": 107,
     "metadata": {},
     "output_type": "execute_result"
    }
   ],
   "source": [
    "diab_data['readmitted'].unique()"
   ]
  },
  {
   "cell_type": "code",
   "execution_count": 108,
   "metadata": {},
   "outputs": [],
   "source": [
    "diab_data['readmitted'] = np.where(diab_data['readmitted'] == 'NO', '0', '1')"
   ]
  },
  {
   "cell_type": "code",
   "execution_count": 114,
   "metadata": {},
   "outputs": [],
   "source": [
    "diab_data_cp = diab_data.copy()\n",
    "label = LabelEncoder()\n",
    "\n",
    "for col in categorical_col:\n",
    "    diab_data_cp[col]=label.fit_transform(diab_data_cp[col]) # convert object type to string"
   ]
  },
  {
   "cell_type": "code",
   "execution_count": 115,
   "metadata": {},
   "outputs": [
    {
     "data": {
      "text/html": [
       "<div>\n",
       "<style scoped>\n",
       "    .dataframe tbody tr th:only-of-type {\n",
       "        vertical-align: middle;\n",
       "    }\n",
       "\n",
       "    .dataframe tbody tr th {\n",
       "        vertical-align: top;\n",
       "    }\n",
       "\n",
       "    .dataframe thead th {\n",
       "        text-align: right;\n",
       "    }\n",
       "</style>\n",
       "<table border=\"1\" class=\"dataframe\">\n",
       "  <thead>\n",
       "    <tr style=\"text-align: right;\">\n",
       "      <th></th>\n",
       "      <th>race</th>\n",
       "      <th>gender</th>\n",
       "      <th>age</th>\n",
       "      <th>admission_type_id</th>\n",
       "      <th>discharge_disposition_id</th>\n",
       "      <th>admission_source_id</th>\n",
       "      <th>time_in_hospital</th>\n",
       "      <th>num_lab_procedures</th>\n",
       "      <th>num_procedures</th>\n",
       "      <th>num_medications</th>\n",
       "      <th>...</th>\n",
       "      <th>tolazamide</th>\n",
       "      <th>insulin</th>\n",
       "      <th>glyburide-metformin</th>\n",
       "      <th>glipizide-metformin</th>\n",
       "      <th>glimepiride-pioglitazone</th>\n",
       "      <th>metformin-rosiglitazone</th>\n",
       "      <th>metformin-pioglitazone</th>\n",
       "      <th>change</th>\n",
       "      <th>diabetesMed</th>\n",
       "      <th>readmitted</th>\n",
       "    </tr>\n",
       "  </thead>\n",
       "  <tbody>\n",
       "    <tr>\n",
       "      <th>0</th>\n",
       "      <td>2</td>\n",
       "      <td>0</td>\n",
       "      <td>0</td>\n",
       "      <td>6</td>\n",
       "      <td>25</td>\n",
       "      <td>1</td>\n",
       "      <td>1</td>\n",
       "      <td>41</td>\n",
       "      <td>0</td>\n",
       "      <td>1</td>\n",
       "      <td>...</td>\n",
       "      <td>0</td>\n",
       "      <td>1</td>\n",
       "      <td>1</td>\n",
       "      <td>0</td>\n",
       "      <td>0</td>\n",
       "      <td>0</td>\n",
       "      <td>0</td>\n",
       "      <td>1</td>\n",
       "      <td>0</td>\n",
       "      <td>0</td>\n",
       "    </tr>\n",
       "    <tr>\n",
       "      <th>1</th>\n",
       "      <td>2</td>\n",
       "      <td>0</td>\n",
       "      <td>1</td>\n",
       "      <td>1</td>\n",
       "      <td>1</td>\n",
       "      <td>7</td>\n",
       "      <td>3</td>\n",
       "      <td>59</td>\n",
       "      <td>0</td>\n",
       "      <td>18</td>\n",
       "      <td>...</td>\n",
       "      <td>0</td>\n",
       "      <td>3</td>\n",
       "      <td>1</td>\n",
       "      <td>0</td>\n",
       "      <td>0</td>\n",
       "      <td>0</td>\n",
       "      <td>0</td>\n",
       "      <td>0</td>\n",
       "      <td>1</td>\n",
       "      <td>1</td>\n",
       "    </tr>\n",
       "    <tr>\n",
       "      <th>2</th>\n",
       "      <td>0</td>\n",
       "      <td>0</td>\n",
       "      <td>2</td>\n",
       "      <td>1</td>\n",
       "      <td>1</td>\n",
       "      <td>7</td>\n",
       "      <td>2</td>\n",
       "      <td>11</td>\n",
       "      <td>5</td>\n",
       "      <td>13</td>\n",
       "      <td>...</td>\n",
       "      <td>0</td>\n",
       "      <td>1</td>\n",
       "      <td>1</td>\n",
       "      <td>0</td>\n",
       "      <td>0</td>\n",
       "      <td>0</td>\n",
       "      <td>0</td>\n",
       "      <td>1</td>\n",
       "      <td>1</td>\n",
       "      <td>0</td>\n",
       "    </tr>\n",
       "    <tr>\n",
       "      <th>3</th>\n",
       "      <td>2</td>\n",
       "      <td>1</td>\n",
       "      <td>3</td>\n",
       "      <td>1</td>\n",
       "      <td>1</td>\n",
       "      <td>7</td>\n",
       "      <td>2</td>\n",
       "      <td>44</td>\n",
       "      <td>1</td>\n",
       "      <td>16</td>\n",
       "      <td>...</td>\n",
       "      <td>0</td>\n",
       "      <td>3</td>\n",
       "      <td>1</td>\n",
       "      <td>0</td>\n",
       "      <td>0</td>\n",
       "      <td>0</td>\n",
       "      <td>0</td>\n",
       "      <td>0</td>\n",
       "      <td>1</td>\n",
       "      <td>0</td>\n",
       "    </tr>\n",
       "    <tr>\n",
       "      <th>4</th>\n",
       "      <td>2</td>\n",
       "      <td>1</td>\n",
       "      <td>4</td>\n",
       "      <td>1</td>\n",
       "      <td>1</td>\n",
       "      <td>7</td>\n",
       "      <td>1</td>\n",
       "      <td>51</td>\n",
       "      <td>0</td>\n",
       "      <td>8</td>\n",
       "      <td>...</td>\n",
       "      <td>0</td>\n",
       "      <td>2</td>\n",
       "      <td>1</td>\n",
       "      <td>0</td>\n",
       "      <td>0</td>\n",
       "      <td>0</td>\n",
       "      <td>0</td>\n",
       "      <td>0</td>\n",
       "      <td>1</td>\n",
       "      <td>0</td>\n",
       "    </tr>\n",
       "  </tbody>\n",
       "</table>\n",
       "<p>5 rows × 40 columns</p>\n",
       "</div>"
      ],
      "text/plain": [
       "   race  gender  age  admission_type_id  discharge_disposition_id  \\\n",
       "0     2       0    0                  6                        25   \n",
       "1     2       0    1                  1                         1   \n",
       "2     0       0    2                  1                         1   \n",
       "3     2       1    3                  1                         1   \n",
       "4     2       1    4                  1                         1   \n",
       "\n",
       "   admission_source_id  time_in_hospital  num_lab_procedures  num_procedures  \\\n",
       "0                    1                 1                  41               0   \n",
       "1                    7                 3                  59               0   \n",
       "2                    7                 2                  11               5   \n",
       "3                    7                 2                  44               1   \n",
       "4                    7                 1                  51               0   \n",
       "\n",
       "   num_medications  ...  tolazamide  insulin  glyburide-metformin  \\\n",
       "0                1  ...           0        1                    1   \n",
       "1               18  ...           0        3                    1   \n",
       "2               13  ...           0        1                    1   \n",
       "3               16  ...           0        3                    1   \n",
       "4                8  ...           0        2                    1   \n",
       "\n",
       "   glipizide-metformin  glimepiride-pioglitazone  metformin-rosiglitazone  \\\n",
       "0                    0                         0                        0   \n",
       "1                    0                         0                        0   \n",
       "2                    0                         0                        0   \n",
       "3                    0                         0                        0   \n",
       "4                    0                         0                        0   \n",
       "\n",
       "   metformin-pioglitazone  change  diabetesMed  readmitted  \n",
       "0                       0       1            0           0  \n",
       "1                       0       0            1           1  \n",
       "2                       0       1            1           0  \n",
       "3                       0       0            1           0  \n",
       "4                       0       0            1           0  \n",
       "\n",
       "[5 rows x 40 columns]"
      ]
     },
     "execution_count": 115,
     "metadata": {},
     "output_type": "execute_result"
    }
   ],
   "source": [
    "diab_data_cp.head()"
   ]
  },
  {
   "cell_type": "code",
   "execution_count": 116,
   "metadata": {},
   "outputs": [],
   "source": [
    "y = diab_data_cp['readmitted']\n",
    "X = diab_data_cp.drop('readmitted', axis = 1)"
   ]
  },
  {
   "cell_type": "code",
   "execution_count": 117,
   "metadata": {},
   "outputs": [
    {
     "data": {
      "text/html": [
       "<div>\n",
       "<style scoped>\n",
       "    .dataframe tbody tr th:only-of-type {\n",
       "        vertical-align: middle;\n",
       "    }\n",
       "\n",
       "    .dataframe tbody tr th {\n",
       "        vertical-align: top;\n",
       "    }\n",
       "\n",
       "    .dataframe thead th {\n",
       "        text-align: right;\n",
       "    }\n",
       "</style>\n",
       "<table border=\"1\" class=\"dataframe\">\n",
       "  <thead>\n",
       "    <tr style=\"text-align: right;\">\n",
       "      <th></th>\n",
       "      <th>race</th>\n",
       "      <th>gender</th>\n",
       "      <th>age</th>\n",
       "      <th>admission_type_id</th>\n",
       "      <th>discharge_disposition_id</th>\n",
       "      <th>admission_source_id</th>\n",
       "      <th>time_in_hospital</th>\n",
       "      <th>num_lab_procedures</th>\n",
       "      <th>num_procedures</th>\n",
       "      <th>num_medications</th>\n",
       "      <th>...</th>\n",
       "      <th>troglitazone</th>\n",
       "      <th>tolazamide</th>\n",
       "      <th>insulin</th>\n",
       "      <th>glyburide-metformin</th>\n",
       "      <th>glipizide-metformin</th>\n",
       "      <th>glimepiride-pioglitazone</th>\n",
       "      <th>metformin-rosiglitazone</th>\n",
       "      <th>metformin-pioglitazone</th>\n",
       "      <th>change</th>\n",
       "      <th>diabetesMed</th>\n",
       "    </tr>\n",
       "  </thead>\n",
       "  <tbody>\n",
       "    <tr>\n",
       "      <th>0</th>\n",
       "      <td>2</td>\n",
       "      <td>0</td>\n",
       "      <td>0</td>\n",
       "      <td>6</td>\n",
       "      <td>25</td>\n",
       "      <td>1</td>\n",
       "      <td>1</td>\n",
       "      <td>41</td>\n",
       "      <td>0</td>\n",
       "      <td>1</td>\n",
       "      <td>...</td>\n",
       "      <td>0</td>\n",
       "      <td>0</td>\n",
       "      <td>1</td>\n",
       "      <td>1</td>\n",
       "      <td>0</td>\n",
       "      <td>0</td>\n",
       "      <td>0</td>\n",
       "      <td>0</td>\n",
       "      <td>1</td>\n",
       "      <td>0</td>\n",
       "    </tr>\n",
       "    <tr>\n",
       "      <th>1</th>\n",
       "      <td>2</td>\n",
       "      <td>0</td>\n",
       "      <td>1</td>\n",
       "      <td>1</td>\n",
       "      <td>1</td>\n",
       "      <td>7</td>\n",
       "      <td>3</td>\n",
       "      <td>59</td>\n",
       "      <td>0</td>\n",
       "      <td>18</td>\n",
       "      <td>...</td>\n",
       "      <td>0</td>\n",
       "      <td>0</td>\n",
       "      <td>3</td>\n",
       "      <td>1</td>\n",
       "      <td>0</td>\n",
       "      <td>0</td>\n",
       "      <td>0</td>\n",
       "      <td>0</td>\n",
       "      <td>0</td>\n",
       "      <td>1</td>\n",
       "    </tr>\n",
       "    <tr>\n",
       "      <th>2</th>\n",
       "      <td>0</td>\n",
       "      <td>0</td>\n",
       "      <td>2</td>\n",
       "      <td>1</td>\n",
       "      <td>1</td>\n",
       "      <td>7</td>\n",
       "      <td>2</td>\n",
       "      <td>11</td>\n",
       "      <td>5</td>\n",
       "      <td>13</td>\n",
       "      <td>...</td>\n",
       "      <td>0</td>\n",
       "      <td>0</td>\n",
       "      <td>1</td>\n",
       "      <td>1</td>\n",
       "      <td>0</td>\n",
       "      <td>0</td>\n",
       "      <td>0</td>\n",
       "      <td>0</td>\n",
       "      <td>1</td>\n",
       "      <td>1</td>\n",
       "    </tr>\n",
       "    <tr>\n",
       "      <th>3</th>\n",
       "      <td>2</td>\n",
       "      <td>1</td>\n",
       "      <td>3</td>\n",
       "      <td>1</td>\n",
       "      <td>1</td>\n",
       "      <td>7</td>\n",
       "      <td>2</td>\n",
       "      <td>44</td>\n",
       "      <td>1</td>\n",
       "      <td>16</td>\n",
       "      <td>...</td>\n",
       "      <td>0</td>\n",
       "      <td>0</td>\n",
       "      <td>3</td>\n",
       "      <td>1</td>\n",
       "      <td>0</td>\n",
       "      <td>0</td>\n",
       "      <td>0</td>\n",
       "      <td>0</td>\n",
       "      <td>0</td>\n",
       "      <td>1</td>\n",
       "    </tr>\n",
       "    <tr>\n",
       "      <th>4</th>\n",
       "      <td>2</td>\n",
       "      <td>1</td>\n",
       "      <td>4</td>\n",
       "      <td>1</td>\n",
       "      <td>1</td>\n",
       "      <td>7</td>\n",
       "      <td>1</td>\n",
       "      <td>51</td>\n",
       "      <td>0</td>\n",
       "      <td>8</td>\n",
       "      <td>...</td>\n",
       "      <td>0</td>\n",
       "      <td>0</td>\n",
       "      <td>2</td>\n",
       "      <td>1</td>\n",
       "      <td>0</td>\n",
       "      <td>0</td>\n",
       "      <td>0</td>\n",
       "      <td>0</td>\n",
       "      <td>0</td>\n",
       "      <td>1</td>\n",
       "    </tr>\n",
       "  </tbody>\n",
       "</table>\n",
       "<p>5 rows × 39 columns</p>\n",
       "</div>"
      ],
      "text/plain": [
       "   race  gender  age  admission_type_id  discharge_disposition_id  \\\n",
       "0     2       0    0                  6                        25   \n",
       "1     2       0    1                  1                         1   \n",
       "2     0       0    2                  1                         1   \n",
       "3     2       1    3                  1                         1   \n",
       "4     2       1    4                  1                         1   \n",
       "\n",
       "   admission_source_id  time_in_hospital  num_lab_procedures  num_procedures  \\\n",
       "0                    1                 1                  41               0   \n",
       "1                    7                 3                  59               0   \n",
       "2                    7                 2                  11               5   \n",
       "3                    7                 2                  44               1   \n",
       "4                    7                 1                  51               0   \n",
       "\n",
       "   num_medications  ...  troglitazone  tolazamide  insulin  \\\n",
       "0                1  ...             0           0        1   \n",
       "1               18  ...             0           0        3   \n",
       "2               13  ...             0           0        1   \n",
       "3               16  ...             0           0        3   \n",
       "4                8  ...             0           0        2   \n",
       "\n",
       "   glyburide-metformin  glipizide-metformin  glimepiride-pioglitazone  \\\n",
       "0                    1                    0                         0   \n",
       "1                    1                    0                         0   \n",
       "2                    1                    0                         0   \n",
       "3                    1                    0                         0   \n",
       "4                    1                    0                         0   \n",
       "\n",
       "   metformin-rosiglitazone  metformin-pioglitazone  change  diabetesMed  \n",
       "0                        0                       0       1            0  \n",
       "1                        0                       0       0            1  \n",
       "2                        0                       0       1            1  \n",
       "3                        0                       0       0            1  \n",
       "4                        0                       0       0            1  \n",
       "\n",
       "[5 rows x 39 columns]"
      ]
     },
     "execution_count": 117,
     "metadata": {},
     "output_type": "execute_result"
    }
   ],
   "source": [
    "X.head()"
   ]
  },
  {
   "cell_type": "code",
   "execution_count": 118,
   "metadata": {},
   "outputs": [
    {
     "name": "stdout",
     "output_type": "stream",
     "text": [
      "                  Specs         Score\n",
      "12     number_inpatient  11728.320252\n",
      "11     number_emergency   4583.198599\n",
      "10    number_outpatient   2826.579194\n",
      "7    num_lab_procedures   1343.448525\n",
      "9       num_medications    883.319650\n",
      "14     number_diagnoses    595.568079\n",
      "6      time_in_hospital    525.292540\n",
      "8        num_procedures    414.470395\n",
      "5   admission_source_id    409.193829\n",
      "13               diag_1    287.427786\n"
     ]
    }
   ],
   "source": [
    "#apply SelectKBest class to extract top 10 best features\n",
    "bestfeatures = SelectKBest(score_func=chi2, k=10)\n",
    "fit = bestfeatures.fit(X,y)\n",
    "dfscores = pd.DataFrame(fit.scores_)\n",
    "dfcolumns = pd.DataFrame(X.columns)\n",
    "#concat two dataframes for better visualization \n",
    "featureScores = pd.concat([dfcolumns,dfscores],axis=1)\n",
    "featureScores.columns = ['Specs','Score']  #naming the dataframe columns\n",
    "print(featureScores.nlargest(10,'Score'))  #print 10 best features"
   ]
  },
  {
   "cell_type": "code",
   "execution_count": 119,
   "metadata": {},
   "outputs": [
    {
     "name": "stdout",
     "output_type": "stream",
     "text": [
      "['number_inpatient', 'number_emergency', 'number_outpatient', 'num_lab_procedures', 'num_medications', 'number_diagnoses', 'time_in_hospital', 'num_procedures', 'admission_source_id', 'diag_1']\n"
     ]
    }
   ],
   "source": [
    "top_variables = featureScores.nlargest(10, 'Score').Specs.tolist()\n",
    "print(top_variables)"
   ]
  },
  {
   "cell_type": "code",
   "execution_count": 122,
   "metadata": {},
   "outputs": [],
   "source": [
    "X = X[top_variables]"
   ]
  },
  {
   "cell_type": "code",
   "execution_count": 121,
   "metadata": {},
   "outputs": [
    {
     "name": "stdout",
     "output_type": "stream",
     "text": [
      "   number_inpatient  number_emergency  number_outpatient  num_lab_procedures  \\\n",
      "0                 0                 0                  0                  41   \n",
      "1                 0                 0                  0                  59   \n",
      "2                 1                 0                  2                  11   \n",
      "3                 0                 0                  0                  44   \n",
      "4                 0                 0                  0                  51   \n",
      "\n",
      "   num_medications  number_diagnoses  time_in_hospital  num_procedures  \\\n",
      "0                1                 1                 1               0   \n",
      "1               18                 9                 3               0   \n",
      "2               13                 6                 2               5   \n",
      "3               16                 7                 2               1   \n",
      "4                8                 5                 1               0   \n",
      "\n",
      "   admission_source_id diag_1  \n",
      "0                    1      3  \n",
      "1                    7      3  \n",
      "2                    7     11  \n",
      "3                    7      1  \n",
      "4                    7      2  \n"
     ]
    }
   ],
   "source": [
    "print(diab_data1.head())"
   ]
  },
  {
   "cell_type": "code",
   "execution_count": 124,
   "metadata": {},
   "outputs": [
    {
     "data": {
      "text/html": [
       "<div>\n",
       "<style scoped>\n",
       "    .dataframe tbody tr th:only-of-type {\n",
       "        vertical-align: middle;\n",
       "    }\n",
       "\n",
       "    .dataframe tbody tr th {\n",
       "        vertical-align: top;\n",
       "    }\n",
       "\n",
       "    .dataframe thead th {\n",
       "        text-align: right;\n",
       "    }\n",
       "</style>\n",
       "<table border=\"1\" class=\"dataframe\">\n",
       "  <thead>\n",
       "    <tr style=\"text-align: right;\">\n",
       "      <th></th>\n",
       "      <th>number_inpatient</th>\n",
       "      <th>number_emergency</th>\n",
       "      <th>number_outpatient</th>\n",
       "      <th>num_lab_procedures</th>\n",
       "      <th>num_medications</th>\n",
       "      <th>number_diagnoses</th>\n",
       "      <th>time_in_hospital</th>\n",
       "      <th>num_procedures</th>\n",
       "      <th>admission_source_id</th>\n",
       "      <th>diag_1</th>\n",
       "    </tr>\n",
       "  </thead>\n",
       "  <tbody>\n",
       "    <tr>\n",
       "      <th>0</th>\n",
       "      <td>0</td>\n",
       "      <td>0</td>\n",
       "      <td>0</td>\n",
       "      <td>41</td>\n",
       "      <td>1</td>\n",
       "      <td>1</td>\n",
       "      <td>1</td>\n",
       "      <td>0</td>\n",
       "      <td>1</td>\n",
       "      <td>11</td>\n",
       "    </tr>\n",
       "    <tr>\n",
       "      <th>1</th>\n",
       "      <td>0</td>\n",
       "      <td>0</td>\n",
       "      <td>0</td>\n",
       "      <td>59</td>\n",
       "      <td>18</td>\n",
       "      <td>9</td>\n",
       "      <td>3</td>\n",
       "      <td>0</td>\n",
       "      <td>7</td>\n",
       "      <td>11</td>\n",
       "    </tr>\n",
       "    <tr>\n",
       "      <th>2</th>\n",
       "      <td>1</td>\n",
       "      <td>0</td>\n",
       "      <td>2</td>\n",
       "      <td>11</td>\n",
       "      <td>13</td>\n",
       "      <td>6</td>\n",
       "      <td>2</td>\n",
       "      <td>5</td>\n",
       "      <td>7</td>\n",
       "      <td>2</td>\n",
       "    </tr>\n",
       "    <tr>\n",
       "      <th>3</th>\n",
       "      <td>0</td>\n",
       "      <td>0</td>\n",
       "      <td>0</td>\n",
       "      <td>44</td>\n",
       "      <td>16</td>\n",
       "      <td>7</td>\n",
       "      <td>2</td>\n",
       "      <td>1</td>\n",
       "      <td>7</td>\n",
       "      <td>0</td>\n",
       "    </tr>\n",
       "    <tr>\n",
       "      <th>4</th>\n",
       "      <td>0</td>\n",
       "      <td>0</td>\n",
       "      <td>0</td>\n",
       "      <td>51</td>\n",
       "      <td>8</td>\n",
       "      <td>5</td>\n",
       "      <td>1</td>\n",
       "      <td>0</td>\n",
       "      <td>7</td>\n",
       "      <td>10</td>\n",
       "    </tr>\n",
       "  </tbody>\n",
       "</table>\n",
       "</div>"
      ],
      "text/plain": [
       "   number_inpatient  number_emergency  number_outpatient  num_lab_procedures  \\\n",
       "0                 0                 0                  0                  41   \n",
       "1                 0                 0                  0                  59   \n",
       "2                 1                 0                  2                  11   \n",
       "3                 0                 0                  0                  44   \n",
       "4                 0                 0                  0                  51   \n",
       "\n",
       "   num_medications  number_diagnoses  time_in_hospital  num_procedures  \\\n",
       "0                1                 1                 1               0   \n",
       "1               18                 9                 3               0   \n",
       "2               13                 6                 2               5   \n",
       "3               16                 7                 2               1   \n",
       "4                8                 5                 1               0   \n",
       "\n",
       "   admission_source_id  diag_1  \n",
       "0                    1      11  \n",
       "1                    7      11  \n",
       "2                    7       2  \n",
       "3                    7       0  \n",
       "4                    7      10  "
      ]
     },
     "execution_count": 124,
     "metadata": {},
     "output_type": "execute_result"
    }
   ],
   "source": [
    "X.head()"
   ]
  },
  {
   "cell_type": "code",
   "execution_count": 123,
   "metadata": {},
   "outputs": [
    {
     "name": "stderr",
     "output_type": "stream",
     "text": [
      "//anaconda3/lib/python3.7/site-packages/sklearn/ensemble/forest.py:245: FutureWarning: The default value of n_estimators will change from 10 in version 0.20 to 100 in 0.22.\n",
      "  \"10 in version 0.20 to 100 in 0.22.\", FutureWarning)\n"
     ]
    },
    {
     "name": "stdout",
     "output_type": "stream",
     "text": [
      "RandomForestClassifier(bootstrap=True, class_weight=None, criterion='gini',\n",
      "                       max_depth=None, max_features='auto', max_leaf_nodes=None,\n",
      "                       min_impurity_decrease=0.0, min_impurity_split=None,\n",
      "                       min_samples_leaf=1, min_samples_split=2,\n",
      "                       min_weight_fraction_leaf=0.0, n_estimators=10,\n",
      "                       n_jobs=None, oob_score=False, random_state=None,\n",
      "                       verbose=0, warm_start=False)\n",
      "0.5866563903223645\n",
      "              precision    recall  f1-score   support\n",
      "\n",
      "          NO       0.60      0.70      0.65     16034\n",
      "         YES       0.57      0.45      0.50     13808\n",
      "\n",
      "    accuracy                           0.59     29842\n",
      "   macro avg       0.58      0.58      0.57     29842\n",
      "weighted avg       0.58      0.59      0.58     29842\n",
      "\n",
      "DecisionTreeClassifier(class_weight=None, criterion='gini', max_depth=None,\n",
      "                       max_features=None, max_leaf_nodes=None,\n",
      "                       min_impurity_decrease=0.0, min_impurity_split=None,\n",
      "                       min_samples_leaf=1, min_samples_split=2,\n",
      "                       min_weight_fraction_leaf=0.0, presort=False,\n",
      "                       random_state=None, splitter='best')\n",
      "0.547717981368541\n",
      "              precision    recall  f1-score   support\n",
      "\n",
      "          NO       0.58      0.58      0.58     16034\n",
      "         YES       0.51      0.51      0.51     13808\n",
      "\n",
      "    accuracy                           0.55     29842\n",
      "   macro avg       0.55      0.55      0.55     29842\n",
      "weighted avg       0.55      0.55      0.55     29842\n",
      "\n",
      "GaussianNB(priors=None, var_smoothing=1e-09)\n",
      "0.5916158434421286\n",
      "              precision    recall  f1-score   support\n",
      "\n",
      "          NO       0.58      0.91      0.71     16034\n",
      "         YES       0.68      0.22      0.34     13808\n",
      "\n",
      "    accuracy                           0.59     29842\n",
      "   macro avg       0.63      0.57      0.52     29842\n",
      "weighted avg       0.62      0.59      0.53     29842\n",
      "\n"
     ]
    },
    {
     "name": "stderr",
     "output_type": "stream",
     "text": [
      "//anaconda3/lib/python3.7/site-packages/sklearn/linear_model/logistic.py:432: FutureWarning: Default solver will be changed to 'lbfgs' in 0.22. Specify a solver to silence this warning.\n",
      "  FutureWarning)\n"
     ]
    },
    {
     "name": "stdout",
     "output_type": "stream",
     "text": [
      "LogisticRegression(C=1.0, class_weight=None, dual=False, fit_intercept=True,\n",
      "                   intercept_scaling=1, l1_ratio=None, max_iter=100,\n",
      "                   multi_class='warn', n_jobs=None, penalty='l2',\n",
      "                   random_state=None, solver='warn', tol=0.0001, verbose=0,\n",
      "                   warm_start=False)\n",
      "0.6176194625025132\n",
      "              precision    recall  f1-score   support\n",
      "\n",
      "          NO       0.61      0.81      0.70     16034\n",
      "         YES       0.64      0.39      0.49     13808\n",
      "\n",
      "    accuracy                           0.62     29842\n",
      "   macro avg       0.63      0.60      0.59     29842\n",
      "weighted avg       0.62      0.62      0.60     29842\n",
      "\n"
     ]
    }
   ],
   "source": [
    "Rf = RandomForestClassifier()\n",
    "Dt = DecisionTreeClassifier()\n",
    "NB = GaussianNB()\n",
    "Lg = LogisticRegression()\n",
    "\n",
    "mod = [Rf, Dt, NB, Lg]\n",
    "\n",
    "def classification_model(model, X, y):\n",
    "    X_train, X_test, y_train, y_test = train_test_split(X, y, test_size = 0.3, random_state = 1)\n",
    "    \n",
    "    for i in model:\n",
    "        clf = i.fit(X_train, y_train)\n",
    "        pred = i.predict(X_test)\n",
    "        print(i)\n",
    "        print(accuracy_score(y_test, pred))\n",
    "        Classes =['NO', 'YES']\n",
    "        print(classification_report(y_test, pred, target_names=Classes))\n",
    "        \n",
    "        \n",
    "classification_model(mod, X, y)\n",
    "        "
   ]
  },
  {
   "cell_type": "code",
   "execution_count": null,
   "metadata": {},
   "outputs": [],
   "source": []
  }
 ],
 "metadata": {
  "kernelspec": {
   "display_name": "Python 3",
   "language": "python",
   "name": "python3"
  },
  "language_info": {
   "codemirror_mode": {
    "name": "ipython",
    "version": 3
   },
   "file_extension": ".py",
   "mimetype": "text/x-python",
   "name": "python",
   "nbconvert_exporter": "python",
   "pygments_lexer": "ipython3",
   "version": "3.7.3"
  }
 },
 "nbformat": 4,
 "nbformat_minor": 2
}
